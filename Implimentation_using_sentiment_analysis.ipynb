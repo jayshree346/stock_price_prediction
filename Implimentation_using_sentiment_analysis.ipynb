{
  "nbformat": 4,
  "nbformat_minor": 0,
  "metadata": {
    "colab": {
      "name": "Implimentation_using_sentiment_analysis.ipynb",
      "provenance": [],
      "include_colab_link": true
    },
    "kernelspec": {
      "name": "python3",
      "display_name": "Python 3"
    }
  },
  "cells": [
    {
      "cell_type": "markdown",
      "metadata": {
        "id": "view-in-github",
        "colab_type": "text"
      },
      "source": [
        "<a href=\"https://colab.research.google.com/github/jayshree346/stock_price_prediction/blob/main/Implimentation_using_sentiment_analysis.ipynb\" target=\"_parent\"><img src=\"https://colab.research.google.com/assets/colab-badge.svg\" alt=\"Open In Colab\"/></a>"
      ]
    },
    {
      "cell_type": "code",
      "metadata": {
        "id": "MxYYmK4wAYsX"
      },
      "source": [
        "import pandas as pd\r\n",
        "import numpy as np"
      ],
      "execution_count": null,
      "outputs": []
    },
    {
      "cell_type": "code",
      "metadata": {
        "id": "qjHgvrXPA5Jg"
      },
      "source": [
        "news=pd.read_csv('/content/news.csv')"
      ],
      "execution_count": null,
      "outputs": []
    },
    {
      "cell_type": "code",
      "metadata": {
        "id": "Dkegxml6A-V_",
        "colab": {
          "base_uri": "https://localhost:8080/",
          "height": 402
        },
        "outputId": "29d6743d-88c5-4b05-a29a-9790d65b795e"
      },
      "source": [
        "News=news.iloc[1261:]\r\n",
        "News\r\n"
      ],
      "execution_count": null,
      "outputs": [
        {
          "output_type": "execute_result",
          "data": {
            "text/html": [
              "<div>\n",
              "<style scoped>\n",
              "    .dataframe tbody tr th:only-of-type {\n",
              "        vertical-align: middle;\n",
              "    }\n",
              "\n",
              "    .dataframe tbody tr th {\n",
              "        vertical-align: top;\n",
              "    }\n",
              "\n",
              "    .dataframe thead th {\n",
              "        text-align: right;\n",
              "    }\n",
              "</style>\n",
              "<table border=\"1\" class=\"dataframe\">\n",
              "  <thead>\n",
              "    <tr style=\"text-align: right;\">\n",
              "      <th></th>\n",
              "      <th>Unnamed: 0</th>\n",
              "      <th>DATE</th>\n",
              "      <th>Headline</th>\n",
              "    </tr>\n",
              "  </thead>\n",
              "  <tbody>\n",
              "    <tr>\n",
              "      <th>1261</th>\n",
              "      <td>1261</td>\n",
              "      <td>2005-01-03</td>\n",
              "      <td>Anil Ambani resigns from IPCLIdea tapping the ...</td>\n",
              "    </tr>\n",
              "    <tr>\n",
              "      <th>1262</th>\n",
              "      <td>1262</td>\n",
              "      <td>2005-01-04</td>\n",
              "      <td>Sensex will breach 7000-level in 2005Major com...</td>\n",
              "    </tr>\n",
              "    <tr>\n",
              "      <th>1263</th>\n",
              "      <td>1263</td>\n",
              "      <td>2005-01-05</td>\n",
              "      <td>Aiyar for an end to 1-year oil contractsIndia ...</td>\n",
              "    </tr>\n",
              "    <tr>\n",
              "      <th>1264</th>\n",
              "      <td>1264</td>\n",
              "      <td>2005-01-06</td>\n",
              "      <td>ADC slashed; cell tariffs to fallGovt's help r...</td>\n",
              "    </tr>\n",
              "    <tr>\n",
              "      <th>1265</th>\n",
              "      <td>1265</td>\n",
              "      <td>2005-01-07</td>\n",
              "      <td>Ambanis headed for split: ReportDividing Relia...</td>\n",
              "    </tr>\n",
              "    <tr>\n",
              "      <th>...</th>\n",
              "      <td>...</td>\n",
              "      <td>...</td>\n",
              "      <td>...</td>\n",
              "    </tr>\n",
              "    <tr>\n",
              "      <th>6840</th>\n",
              "      <td>6840</td>\n",
              "      <td>2020-06-26</td>\n",
              "      <td>Preferential offers get more pricing options f...</td>\n",
              "    </tr>\n",
              "    <tr>\n",
              "      <th>6841</th>\n",
              "      <td>6841</td>\n",
              "      <td>2020-06-27</td>\n",
              "      <td>'Ashok Leyland independent biz; won't be impac...</td>\n",
              "    </tr>\n",
              "    <tr>\n",
              "      <th>6842</th>\n",
              "      <td>6842</td>\n",
              "      <td>2020-06-28</td>\n",
              "      <td>Ordinance to let RBI revive banks without mora...</td>\n",
              "    </tr>\n",
              "    <tr>\n",
              "      <th>6843</th>\n",
              "      <td>6843</td>\n",
              "      <td>2020-06-29</td>\n",
              "      <td>Techtonic Review: The OnePlus 8 and OnePlus 8 ...</td>\n",
              "    </tr>\n",
              "    <tr>\n",
              "      <th>6844</th>\n",
              "      <td>6844</td>\n",
              "      <td>2020-06-30</td>\n",
              "      <td>Solar plan to make Leh self-reliant hanging fi...</td>\n",
              "    </tr>\n",
              "  </tbody>\n",
              "</table>\n",
              "<p>5584 rows × 3 columns</p>\n",
              "</div>"
            ],
            "text/plain": [
              "      Unnamed: 0        DATE                                           Headline\n",
              "1261        1261  2005-01-03  Anil Ambani resigns from IPCLIdea tapping the ...\n",
              "1262        1262  2005-01-04  Sensex will breach 7000-level in 2005Major com...\n",
              "1263        1263  2005-01-05  Aiyar for an end to 1-year oil contractsIndia ...\n",
              "1264        1264  2005-01-06  ADC slashed; cell tariffs to fallGovt's help r...\n",
              "1265        1265  2005-01-07  Ambanis headed for split: ReportDividing Relia...\n",
              "...          ...         ...                                                ...\n",
              "6840        6840  2020-06-26  Preferential offers get more pricing options f...\n",
              "6841        6841  2020-06-27  'Ashok Leyland independent biz; won't be impac...\n",
              "6842        6842  2020-06-28  Ordinance to let RBI revive banks without mora...\n",
              "6843        6843  2020-06-29  Techtonic Review: The OnePlus 8 and OnePlus 8 ...\n",
              "6844        6844  2020-06-30  Solar plan to make Leh self-reliant hanging fi...\n",
              "\n",
              "[5584 rows x 3 columns]"
            ]
          },
          "metadata": {
            "tags": []
          },
          "execution_count": 3
        }
      ]
    },
    {
      "cell_type": "code",
      "metadata": {
        "id": "m6AthzPqBBCY"
      },
      "source": [
        "import nltk"
      ],
      "execution_count": null,
      "outputs": []
    },
    {
      "cell_type": "code",
      "metadata": {
        "id": "94ECRVndD2eN",
        "colab": {
          "base_uri": "https://localhost:8080/"
        },
        "outputId": "9e499e5a-5cec-4a22-d65b-49c78276d004"
      },
      "source": [
        "from nltk.sentiment.vader import SentimentIntensityAnalyzer"
      ],
      "execution_count": null,
      "outputs": [
        {
          "output_type": "stream",
          "text": [
            "/usr/local/lib/python3.6/dist-packages/nltk/twitter/__init__.py:20: UserWarning: The twython library has not been installed. Some functionality from the twitter package will not be available.\n",
            "  warnings.warn(\"The twython library has not been installed. \"\n"
          ],
          "name": "stderr"
        }
      ]
    },
    {
      "cell_type": "code",
      "metadata": {
        "colab": {
          "base_uri": "https://localhost:8080/"
        },
        "id": "IXxaOhAkEKsJ",
        "outputId": "571fcfba-b5e5-49f0-8d8d-f7af9e588d74"
      },
      "source": [
        "nltk.download('vader_lexicon')"
      ],
      "execution_count": null,
      "outputs": [
        {
          "output_type": "stream",
          "text": [
            "[nltk_data] Downloading package vader_lexicon to /root/nltk_data...\n"
          ],
          "name": "stdout"
        },
        {
          "output_type": "execute_result",
          "data": {
            "text/plain": [
              "True"
            ]
          },
          "metadata": {
            "tags": []
          },
          "execution_count": 6
        }
      ]
    },
    {
      "cell_type": "code",
      "metadata": {
        "id": "qtHmHlehD8TJ"
      },
      "source": [
        "sent=SentimentIntensityAnalyzer()"
      ],
      "execution_count": null,
      "outputs": []
    },
    {
      "cell_type": "code",
      "metadata": {
        "id": "xvejv5mGEJQ0"
      },
      "source": [
        "Negative=[]\r\n",
        "Positive=[]\r\n",
        "Neutral=[]\r\n",
        "for i in News['Headline']:\r\n",
        "  Negative.append(sent.polarity_scores(str(i))['neg'])\r\n",
        "  Positive.append(sent.polarity_scores(str(i))['pos'])\r\n",
        "  Neutral.append(sent.polarity_scores(str(i))['neu'])"
      ],
      "execution_count": null,
      "outputs": []
    },
    {
      "cell_type": "code",
      "metadata": {
        "id": "8B2XySrKGX3o"
      },
      "source": [
        "Negative,Neutral,Positive"
      ],
      "execution_count": null,
      "outputs": []
    },
    {
      "cell_type": "code",
      "metadata": {
        "id": "SzsxZ1TdEeld"
      },
      "source": [
        "import pandas as pd\r\n",
        "import io\r\n",
        "train=pd.read_csv('/content/GOOG (2).csv')"
      ],
      "execution_count": null,
      "outputs": []
    },
    {
      "cell_type": "code",
      "metadata": {
        "id": "6_HRb6JqHpVK"
      },
      "source": [
        "from fbprophet import Prophet"
      ],
      "execution_count": null,
      "outputs": []
    },
    {
      "cell_type": "code",
      "metadata": {
        "id": "YLaRjBIDHq_P"
      },
      "source": [
        "train=train.reset_index()[['Date','Open','High','Low','Close','Volume']].rename({'Date':'ds','Close':'y'},axis='columns')\r\n",
        "train['ds']=pd.to_datetime(train['ds'])"
      ],
      "execution_count": null,
      "outputs": []
    },
    {
      "cell_type": "code",
      "metadata": {
        "id": "4QcliT9qHuMe"
      },
      "source": [
        "\r\n",
        "New_month=[]\r\n",
        "for i in pd.DatetimeIndex(train['ds']).day:\r\n",
        "  if(i>5):\r\n",
        "    New_month.append(0)\r\n",
        "  else:\r\n",
        "    New_month.append(1)"
      ],
      "execution_count": null,
      "outputs": []
    },
    {
      "cell_type": "code",
      "metadata": {
        "id": "EVOSVycoHvtB"
      },
      "source": [
        "New_year=[]\r\n",
        "for i,j in zip(pd.DatetimeIndex(train['ds']).day,pd.DatetimeIndex(train['ds']).month):\r\n",
        "  if(i==31 and j==12):\r\n",
        "    New_year.append(1)\r\n",
        "    \r\n",
        "  elif(i>=1and i<5 and j==1):\r\n",
        "    New_year.append(1)\r\n",
        "\r\n",
        "  else:\r\n",
        "    New_year.append(0)"
      ],
      "execution_count": null,
      "outputs": []
    },
    {
      "cell_type": "code",
      "metadata": {
        "id": "n7yCnb_bHxHn"
      },
      "source": [
        "train['New_year']=New_year\r\n",
        "train['New_month']=New_month\r\n"
      ],
      "execution_count": null,
      "outputs": []
    },
    {
      "cell_type": "code",
      "metadata": {
        "colab": {
          "base_uri": "https://localhost:8080/"
        },
        "id": "mZsPtCQuIrd1",
        "outputId": "60aa2e3a-c426-41e3-82a6-63f8d9b52c27"
      },
      "source": [
        "News['DATE']=pd.to_datetime(News['DATE'])"
      ],
      "execution_count": null,
      "outputs": [
        {
          "output_type": "stream",
          "text": [
            "/usr/local/lib/python3.6/dist-packages/ipykernel_launcher.py:1: SettingWithCopyWarning:\n",
            "\n",
            "\n",
            "A value is trying to be set on a copy of a slice from a DataFrame.\n",
            "Try using .loc[row_indexer,col_indexer] = value instead\n",
            "\n",
            "See the caveats in the documentation: https://pandas.pydata.org/pandas-docs/stable/user_guide/indexing.html#returning-a-view-versus-a-copy\n",
            "\n"
          ],
          "name": "stderr"
        }
      ]
    },
    {
      "cell_type": "code",
      "metadata": {
        "colab": {
          "base_uri": "https://localhost:8080/"
        },
        "id": "6kVNcgOVICRB",
        "outputId": "9b998761-2f64-48c0-d688-e4b3985fb2e6"
      },
      "source": [
        "News['Positive']=Positive\r\n",
        "News['Neutral']=Neutral\r\n",
        "News['Neagtive']=Negative"
      ],
      "execution_count": null,
      "outputs": [
        {
          "output_type": "stream",
          "text": [
            "/usr/local/lib/python3.6/dist-packages/ipykernel_launcher.py:1: SettingWithCopyWarning:\n",
            "\n",
            "\n",
            "A value is trying to be set on a copy of a slice from a DataFrame.\n",
            "Try using .loc[row_indexer,col_indexer] = value instead\n",
            "\n",
            "See the caveats in the documentation: https://pandas.pydata.org/pandas-docs/stable/user_guide/indexing.html#returning-a-view-versus-a-copy\n",
            "\n",
            "/usr/local/lib/python3.6/dist-packages/ipykernel_launcher.py:2: SettingWithCopyWarning:\n",
            "\n",
            "\n",
            "A value is trying to be set on a copy of a slice from a DataFrame.\n",
            "Try using .loc[row_indexer,col_indexer] = value instead\n",
            "\n",
            "See the caveats in the documentation: https://pandas.pydata.org/pandas-docs/stable/user_guide/indexing.html#returning-a-view-versus-a-copy\n",
            "\n",
            "/usr/local/lib/python3.6/dist-packages/ipykernel_launcher.py:3: SettingWithCopyWarning:\n",
            "\n",
            "\n",
            "A value is trying to be set on a copy of a slice from a DataFrame.\n",
            "Try using .loc[row_indexer,col_indexer] = value instead\n",
            "\n",
            "See the caveats in the documentation: https://pandas.pydata.org/pandas-docs/stable/user_guide/indexing.html#returning-a-view-versus-a-copy\n",
            "\n"
          ],
          "name": "stderr"
        }
      ]
    },
    {
      "cell_type": "code",
      "metadata": {
        "colab": {
          "base_uri": "https://localhost:8080/",
          "height": 402
        },
        "id": "OWtytX4QKSGu",
        "outputId": "b5e48c9c-2d56-4886-8a24-2da45f2db91c"
      },
      "source": [
        "News"
      ],
      "execution_count": null,
      "outputs": [
        {
          "output_type": "execute_result",
          "data": {
            "text/html": [
              "<div>\n",
              "<style scoped>\n",
              "    .dataframe tbody tr th:only-of-type {\n",
              "        vertical-align: middle;\n",
              "    }\n",
              "\n",
              "    .dataframe tbody tr th {\n",
              "        vertical-align: top;\n",
              "    }\n",
              "\n",
              "    .dataframe thead th {\n",
              "        text-align: right;\n",
              "    }\n",
              "</style>\n",
              "<table border=\"1\" class=\"dataframe\">\n",
              "  <thead>\n",
              "    <tr style=\"text-align: right;\">\n",
              "      <th></th>\n",
              "      <th>Unnamed: 0</th>\n",
              "      <th>DATE</th>\n",
              "      <th>Headline</th>\n",
              "      <th>Positive</th>\n",
              "      <th>Neutral</th>\n",
              "      <th>Neagtive</th>\n",
              "    </tr>\n",
              "  </thead>\n",
              "  <tbody>\n",
              "    <tr>\n",
              "      <th>1261</th>\n",
              "      <td>1261</td>\n",
              "      <td>2005-01-03</td>\n",
              "      <td>Anil Ambani resigns from IPCLIdea tapping the ...</td>\n",
              "      <td>0.030</td>\n",
              "      <td>0.870</td>\n",
              "      <td>0.100</td>\n",
              "    </tr>\n",
              "    <tr>\n",
              "      <th>1262</th>\n",
              "      <td>1262</td>\n",
              "      <td>2005-01-04</td>\n",
              "      <td>Sensex will breach 7000-level in 2005Major com...</td>\n",
              "      <td>0.000</td>\n",
              "      <td>1.000</td>\n",
              "      <td>0.000</td>\n",
              "    </tr>\n",
              "    <tr>\n",
              "      <th>1263</th>\n",
              "      <td>1263</td>\n",
              "      <td>2005-01-05</td>\n",
              "      <td>Aiyar for an end to 1-year oil contractsIndia ...</td>\n",
              "      <td>0.134</td>\n",
              "      <td>0.753</td>\n",
              "      <td>0.112</td>\n",
              "    </tr>\n",
              "    <tr>\n",
              "      <th>1264</th>\n",
              "      <td>1264</td>\n",
              "      <td>2005-01-06</td>\n",
              "      <td>ADC slashed; cell tariffs to fallGovt's help r...</td>\n",
              "      <td>0.179</td>\n",
              "      <td>0.708</td>\n",
              "      <td>0.113</td>\n",
              "    </tr>\n",
              "    <tr>\n",
              "      <th>1265</th>\n",
              "      <td>1265</td>\n",
              "      <td>2005-01-07</td>\n",
              "      <td>Ambanis headed for split: ReportDividing Relia...</td>\n",
              "      <td>0.036</td>\n",
              "      <td>0.929</td>\n",
              "      <td>0.036</td>\n",
              "    </tr>\n",
              "    <tr>\n",
              "      <th>...</th>\n",
              "      <td>...</td>\n",
              "      <td>...</td>\n",
              "      <td>...</td>\n",
              "      <td>...</td>\n",
              "      <td>...</td>\n",
              "      <td>...</td>\n",
              "    </tr>\n",
              "    <tr>\n",
              "      <th>6840</th>\n",
              "      <td>6840</td>\n",
              "      <td>2020-06-26</td>\n",
              "      <td>Preferential offers get more pricing options f...</td>\n",
              "      <td>0.000</td>\n",
              "      <td>0.914</td>\n",
              "      <td>0.086</td>\n",
              "    </tr>\n",
              "    <tr>\n",
              "      <th>6841</th>\n",
              "      <td>6841</td>\n",
              "      <td>2020-06-27</td>\n",
              "      <td>'Ashok Leyland independent biz; won't be impac...</td>\n",
              "      <td>0.107</td>\n",
              "      <td>0.809</td>\n",
              "      <td>0.085</td>\n",
              "    </tr>\n",
              "    <tr>\n",
              "      <th>6842</th>\n",
              "      <td>6842</td>\n",
              "      <td>2020-06-28</td>\n",
              "      <td>Ordinance to let RBI revive banks without mora...</td>\n",
              "      <td>0.130</td>\n",
              "      <td>0.870</td>\n",
              "      <td>0.000</td>\n",
              "    </tr>\n",
              "    <tr>\n",
              "      <th>6843</th>\n",
              "      <td>6843</td>\n",
              "      <td>2020-06-29</td>\n",
              "      <td>Techtonic Review: The OnePlus 8 and OnePlus 8 ...</td>\n",
              "      <td>0.030</td>\n",
              "      <td>0.970</td>\n",
              "      <td>0.000</td>\n",
              "    </tr>\n",
              "    <tr>\n",
              "      <th>6844</th>\n",
              "      <td>6844</td>\n",
              "      <td>2020-06-30</td>\n",
              "      <td>Solar plan to make Leh self-reliant hanging fi...</td>\n",
              "      <td>0.067</td>\n",
              "      <td>0.873</td>\n",
              "      <td>0.059</td>\n",
              "    </tr>\n",
              "  </tbody>\n",
              "</table>\n",
              "<p>5584 rows × 6 columns</p>\n",
              "</div>"
            ],
            "text/plain": [
              "      Unnamed: 0       DATE  ... Neutral  Neagtive\n",
              "1261        1261 2005-01-03  ...   0.870     0.100\n",
              "1262        1262 2005-01-04  ...   1.000     0.000\n",
              "1263        1263 2005-01-05  ...   0.753     0.112\n",
              "1264        1264 2005-01-06  ...   0.708     0.113\n",
              "1265        1265 2005-01-07  ...   0.929     0.036\n",
              "...          ...        ...  ...     ...       ...\n",
              "6840        6840 2020-06-26  ...   0.914     0.086\n",
              "6841        6841 2020-06-27  ...   0.809     0.085\n",
              "6842        6842 2020-06-28  ...   0.870     0.000\n",
              "6843        6843 2020-06-29  ...   0.970     0.000\n",
              "6844        6844 2020-06-30  ...   0.873     0.059\n",
              "\n",
              "[5584 rows x 6 columns]"
            ]
          },
          "metadata": {
            "tags": []
          },
          "execution_count": 23
        }
      ]
    },
    {
      "cell_type": "code",
      "metadata": {
        "colab": {
          "base_uri": "https://localhost:8080/",
          "height": 402
        },
        "id": "KLtB9VWAHJp1",
        "outputId": "73bb7ae5-c838-4b8b-efc7-94958370b0b9"
      },
      "source": [
        "train"
      ],
      "execution_count": null,
      "outputs": [
        {
          "output_type": "execute_result",
          "data": {
            "text/html": [
              "<div>\n",
              "<style scoped>\n",
              "    .dataframe tbody tr th:only-of-type {\n",
              "        vertical-align: middle;\n",
              "    }\n",
              "\n",
              "    .dataframe tbody tr th {\n",
              "        vertical-align: top;\n",
              "    }\n",
              "\n",
              "    .dataframe thead th {\n",
              "        text-align: right;\n",
              "    }\n",
              "</style>\n",
              "<table border=\"1\" class=\"dataframe\">\n",
              "  <thead>\n",
              "    <tr style=\"text-align: right;\">\n",
              "      <th></th>\n",
              "      <th>ds</th>\n",
              "      <th>Open</th>\n",
              "      <th>High</th>\n",
              "      <th>Low</th>\n",
              "      <th>y</th>\n",
              "      <th>Volume</th>\n",
              "      <th>New_year</th>\n",
              "      <th>New_month</th>\n",
              "    </tr>\n",
              "  </thead>\n",
              "  <tbody>\n",
              "    <tr>\n",
              "      <th>0</th>\n",
              "      <td>2005-01-03</td>\n",
              "      <td>98.331429</td>\n",
              "      <td>101.439781</td>\n",
              "      <td>97.365051</td>\n",
              "      <td>100.976517</td>\n",
              "      <td>31807000</td>\n",
              "      <td>1</td>\n",
              "      <td>1</td>\n",
              "    </tr>\n",
              "    <tr>\n",
              "      <th>1</th>\n",
              "      <td>2005-01-04</td>\n",
              "      <td>100.323959</td>\n",
              "      <td>101.086105</td>\n",
              "      <td>96.378746</td>\n",
              "      <td>96.886841</td>\n",
              "      <td>27614900</td>\n",
              "      <td>1</td>\n",
              "      <td>1</td>\n",
              "    </tr>\n",
              "    <tr>\n",
              "      <th>2</th>\n",
              "      <td>2005-01-05</td>\n",
              "      <td>96.363808</td>\n",
              "      <td>98.082367</td>\n",
              "      <td>95.756081</td>\n",
              "      <td>96.393692</td>\n",
              "      <td>16534800</td>\n",
              "      <td>0</td>\n",
              "      <td>1</td>\n",
              "    </tr>\n",
              "    <tr>\n",
              "      <th>3</th>\n",
              "      <td>2005-01-06</td>\n",
              "      <td>97.175758</td>\n",
              "      <td>97.584229</td>\n",
              "      <td>93.509506</td>\n",
              "      <td>93.922951</td>\n",
              "      <td>20851900</td>\n",
              "      <td>0</td>\n",
              "      <td>0</td>\n",
              "    </tr>\n",
              "    <tr>\n",
              "      <th>4</th>\n",
              "      <td>2005-01-07</td>\n",
              "      <td>94.964050</td>\n",
              "      <td>96.762314</td>\n",
              "      <td>94.037521</td>\n",
              "      <td>96.563057</td>\n",
              "      <td>19398200</td>\n",
              "      <td>0</td>\n",
              "      <td>0</td>\n",
              "    </tr>\n",
              "    <tr>\n",
              "      <th>...</th>\n",
              "      <td>...</td>\n",
              "      <td>...</td>\n",
              "      <td>...</td>\n",
              "      <td>...</td>\n",
              "      <td>...</td>\n",
              "      <td>...</td>\n",
              "      <td>...</td>\n",
              "      <td>...</td>\n",
              "    </tr>\n",
              "    <tr>\n",
              "      <th>4032</th>\n",
              "      <td>2021-01-08</td>\n",
              "      <td>1787.979980</td>\n",
              "      <td>1809.839966</td>\n",
              "      <td>1773.535034</td>\n",
              "      <td>1807.209961</td>\n",
              "      <td>2050600</td>\n",
              "      <td>0</td>\n",
              "      <td>0</td>\n",
              "    </tr>\n",
              "    <tr>\n",
              "      <th>4033</th>\n",
              "      <td>2021-01-11</td>\n",
              "      <td>1786.069946</td>\n",
              "      <td>1794.314941</td>\n",
              "      <td>1760.520020</td>\n",
              "      <td>1766.719971</td>\n",
              "      <td>1209700</td>\n",
              "      <td>0</td>\n",
              "      <td>0</td>\n",
              "    </tr>\n",
              "    <tr>\n",
              "      <th>4034</th>\n",
              "      <td>2021-01-12</td>\n",
              "      <td>1753.920044</td>\n",
              "      <td>1778.040039</td>\n",
              "      <td>1725.310059</td>\n",
              "      <td>1746.550049</td>\n",
              "      <td>1357700</td>\n",
              "      <td>0</td>\n",
              "      <td>0</td>\n",
              "    </tr>\n",
              "    <tr>\n",
              "      <th>4035</th>\n",
              "      <td>2021-01-13</td>\n",
              "      <td>1738.579956</td>\n",
              "      <td>1765.035034</td>\n",
              "      <td>1738.010010</td>\n",
              "      <td>1754.400024</td>\n",
              "      <td>1094100</td>\n",
              "      <td>0</td>\n",
              "      <td>0</td>\n",
              "    </tr>\n",
              "    <tr>\n",
              "      <th>4036</th>\n",
              "      <td>2021-01-14</td>\n",
              "      <td>1753.619995</td>\n",
              "      <td>1775.010010</td>\n",
              "      <td>1733.400024</td>\n",
              "      <td>1740.180054</td>\n",
              "      <td>1179500</td>\n",
              "      <td>0</td>\n",
              "      <td>0</td>\n",
              "    </tr>\n",
              "  </tbody>\n",
              "</table>\n",
              "<p>4037 rows × 8 columns</p>\n",
              "</div>"
            ],
            "text/plain": [
              "             ds         Open         High  ...    Volume  New_year  New_month\n",
              "0    2005-01-03    98.331429   101.439781  ...  31807000         1          1\n",
              "1    2005-01-04   100.323959   101.086105  ...  27614900         1          1\n",
              "2    2005-01-05    96.363808    98.082367  ...  16534800         0          1\n",
              "3    2005-01-06    97.175758    97.584229  ...  20851900         0          0\n",
              "4    2005-01-07    94.964050    96.762314  ...  19398200         0          0\n",
              "...         ...          ...          ...  ...       ...       ...        ...\n",
              "4032 2021-01-08  1787.979980  1809.839966  ...   2050600         0          0\n",
              "4033 2021-01-11  1786.069946  1794.314941  ...   1209700         0          0\n",
              "4034 2021-01-12  1753.920044  1778.040039  ...   1357700         0          0\n",
              "4035 2021-01-13  1738.579956  1765.035034  ...   1094100         0          0\n",
              "4036 2021-01-14  1753.619995  1775.010010  ...   1179500         0          0\n",
              "\n",
              "[4037 rows x 8 columns]"
            ]
          },
          "metadata": {
            "tags": []
          },
          "execution_count": 24
        }
      ]
    },
    {
      "cell_type": "code",
      "metadata": {
        "id": "ksibnWehJlck"
      },
      "source": [
        "News=News.rename({'DATE':'ds'},axis='columns')"
      ],
      "execution_count": null,
      "outputs": []
    },
    {
      "cell_type": "code",
      "metadata": {
        "id": "Jz8yqTGBKphw"
      },
      "source": [
        "df=train.merge(News,how='inner')"
      ],
      "execution_count": null,
      "outputs": []
    },
    {
      "cell_type": "code",
      "metadata": {
        "id": "PDcyXOsqKzaV",
        "colab": {
          "base_uri": "https://localhost:8080/",
          "height": 1000
        },
        "outputId": "77979f6f-13c4-4604-c4ff-6e41ee1dd6d8"
      },
      "source": [
        "df"
      ],
      "execution_count": null,
      "outputs": [
        {
          "output_type": "execute_result",
          "data": {
            "text/html": [
              "<div>\n",
              "<style scoped>\n",
              "    .dataframe tbody tr th:only-of-type {\n",
              "        vertical-align: middle;\n",
              "    }\n",
              "\n",
              "    .dataframe tbody tr th {\n",
              "        vertical-align: top;\n",
              "    }\n",
              "\n",
              "    .dataframe thead th {\n",
              "        text-align: right;\n",
              "    }\n",
              "</style>\n",
              "<table border=\"1\" class=\"dataframe\">\n",
              "  <thead>\n",
              "    <tr style=\"text-align: right;\">\n",
              "      <th></th>\n",
              "      <th>ds</th>\n",
              "      <th>Open</th>\n",
              "      <th>High</th>\n",
              "      <th>Low</th>\n",
              "      <th>y</th>\n",
              "      <th>Volume</th>\n",
              "      <th>New_year</th>\n",
              "      <th>New_month</th>\n",
              "      <th>Unnamed: 0</th>\n",
              "      <th>Headline</th>\n",
              "      <th>Positive</th>\n",
              "      <th>Neutral</th>\n",
              "      <th>Neagtive</th>\n",
              "    </tr>\n",
              "  </thead>\n",
              "  <tbody>\n",
              "    <tr>\n",
              "      <th>0</th>\n",
              "      <td>2005-01-03</td>\n",
              "      <td>98.331429</td>\n",
              "      <td>101.439781</td>\n",
              "      <td>97.365051</td>\n",
              "      <td>100.976517</td>\n",
              "      <td>31807000</td>\n",
              "      <td>1</td>\n",
              "      <td>1</td>\n",
              "      <td>1261</td>\n",
              "      <td>Anil Ambani resigns from IPCLIdea tapping the ...</td>\n",
              "      <td>0.030</td>\n",
              "      <td>0.870</td>\n",
              "      <td>0.100</td>\n",
              "    </tr>\n",
              "    <tr>\n",
              "      <th>1</th>\n",
              "      <td>2005-01-04</td>\n",
              "      <td>100.323959</td>\n",
              "      <td>101.086105</td>\n",
              "      <td>96.378746</td>\n",
              "      <td>96.886841</td>\n",
              "      <td>27614900</td>\n",
              "      <td>1</td>\n",
              "      <td>1</td>\n",
              "      <td>1262</td>\n",
              "      <td>Sensex will breach 7000-level in 2005Major com...</td>\n",
              "      <td>0.000</td>\n",
              "      <td>1.000</td>\n",
              "      <td>0.000</td>\n",
              "    </tr>\n",
              "    <tr>\n",
              "      <th>2</th>\n",
              "      <td>2005-01-05</td>\n",
              "      <td>96.363808</td>\n",
              "      <td>98.082367</td>\n",
              "      <td>95.756081</td>\n",
              "      <td>96.393692</td>\n",
              "      <td>16534800</td>\n",
              "      <td>0</td>\n",
              "      <td>1</td>\n",
              "      <td>1263</td>\n",
              "      <td>Aiyar for an end to 1-year oil contractsIndia ...</td>\n",
              "      <td>0.134</td>\n",
              "      <td>0.753</td>\n",
              "      <td>0.112</td>\n",
              "    </tr>\n",
              "    <tr>\n",
              "      <th>3</th>\n",
              "      <td>2005-01-06</td>\n",
              "      <td>97.175758</td>\n",
              "      <td>97.584229</td>\n",
              "      <td>93.509506</td>\n",
              "      <td>93.922951</td>\n",
              "      <td>20851900</td>\n",
              "      <td>0</td>\n",
              "      <td>0</td>\n",
              "      <td>1264</td>\n",
              "      <td>ADC slashed; cell tariffs to fallGovt's help r...</td>\n",
              "      <td>0.179</td>\n",
              "      <td>0.708</td>\n",
              "      <td>0.113</td>\n",
              "    </tr>\n",
              "    <tr>\n",
              "      <th>4</th>\n",
              "      <td>2005-01-07</td>\n",
              "      <td>94.964050</td>\n",
              "      <td>96.762314</td>\n",
              "      <td>94.037521</td>\n",
              "      <td>96.563057</td>\n",
              "      <td>19398200</td>\n",
              "      <td>0</td>\n",
              "      <td>0</td>\n",
              "      <td>1265</td>\n",
              "      <td>Ambanis headed for split: ReportDividing Relia...</td>\n",
              "      <td>0.036</td>\n",
              "      <td>0.929</td>\n",
              "      <td>0.036</td>\n",
              "    </tr>\n",
              "    <tr>\n",
              "      <th>...</th>\n",
              "      <td>...</td>\n",
              "      <td>...</td>\n",
              "      <td>...</td>\n",
              "      <td>...</td>\n",
              "      <td>...</td>\n",
              "      <td>...</td>\n",
              "      <td>...</td>\n",
              "      <td>...</td>\n",
              "      <td>...</td>\n",
              "      <td>...</td>\n",
              "      <td>...</td>\n",
              "      <td>...</td>\n",
              "      <td>...</td>\n",
              "    </tr>\n",
              "    <tr>\n",
              "      <th>3863</th>\n",
              "      <td>2020-06-24</td>\n",
              "      <td>1461.510010</td>\n",
              "      <td>1475.420044</td>\n",
              "      <td>1429.750000</td>\n",
              "      <td>1431.969971</td>\n",
              "      <td>1756000</td>\n",
              "      <td>0</td>\n",
              "      <td>0</td>\n",
              "      <td>6838</td>\n",
              "      <td>IT stocks shrug off H-1B jittersFinmin calls m...</td>\n",
              "      <td>0.023</td>\n",
              "      <td>0.873</td>\n",
              "      <td>0.104</td>\n",
              "    </tr>\n",
              "    <tr>\n",
              "      <th>3864</th>\n",
              "      <td>2020-06-25</td>\n",
              "      <td>1429.900024</td>\n",
              "      <td>1442.900024</td>\n",
              "      <td>1420.000000</td>\n",
              "      <td>1441.329956</td>\n",
              "      <td>1230500</td>\n",
              "      <td>0</td>\n",
              "      <td>0</td>\n",
              "      <td>6839</td>\n",
              "      <td>Truck firms look for new export markets to sel...</td>\n",
              "      <td>0.134</td>\n",
              "      <td>0.831</td>\n",
              "      <td>0.035</td>\n",
              "    </tr>\n",
              "    <tr>\n",
              "      <th>3865</th>\n",
              "      <td>2020-06-26</td>\n",
              "      <td>1431.390015</td>\n",
              "      <td>1433.449951</td>\n",
              "      <td>1351.989990</td>\n",
              "      <td>1359.900024</td>\n",
              "      <td>4267700</td>\n",
              "      <td>0</td>\n",
              "      <td>0</td>\n",
              "      <td>6840</td>\n",
              "      <td>Preferential offers get more pricing options f...</td>\n",
              "      <td>0.000</td>\n",
              "      <td>0.914</td>\n",
              "      <td>0.086</td>\n",
              "    </tr>\n",
              "    <tr>\n",
              "      <th>3866</th>\n",
              "      <td>2020-06-29</td>\n",
              "      <td>1358.180054</td>\n",
              "      <td>1395.599976</td>\n",
              "      <td>1347.010010</td>\n",
              "      <td>1394.969971</td>\n",
              "      <td>1810200</td>\n",
              "      <td>0</td>\n",
              "      <td>0</td>\n",
              "      <td>6843</td>\n",
              "      <td>Techtonic Review: The OnePlus 8 and OnePlus 8 ...</td>\n",
              "      <td>0.030</td>\n",
              "      <td>0.970</td>\n",
              "      <td>0.000</td>\n",
              "    </tr>\n",
              "    <tr>\n",
              "      <th>3867</th>\n",
              "      <td>2020-06-30</td>\n",
              "      <td>1390.439941</td>\n",
              "      <td>1418.650024</td>\n",
              "      <td>1383.959961</td>\n",
              "      <td>1413.609985</td>\n",
              "      <td>2042400</td>\n",
              "      <td>0</td>\n",
              "      <td>0</td>\n",
              "      <td>6844</td>\n",
              "      <td>Solar plan to make Leh self-reliant hanging fi...</td>\n",
              "      <td>0.067</td>\n",
              "      <td>0.873</td>\n",
              "      <td>0.059</td>\n",
              "    </tr>\n",
              "  </tbody>\n",
              "</table>\n",
              "<p>3868 rows × 13 columns</p>\n",
              "</div>"
            ],
            "text/plain": [
              "             ds         Open         High  ...  Positive  Neutral  Neagtive\n",
              "0    2005-01-03    98.331429   101.439781  ...     0.030    0.870     0.100\n",
              "1    2005-01-04   100.323959   101.086105  ...     0.000    1.000     0.000\n",
              "2    2005-01-05    96.363808    98.082367  ...     0.134    0.753     0.112\n",
              "3    2005-01-06    97.175758    97.584229  ...     0.179    0.708     0.113\n",
              "4    2005-01-07    94.964050    96.762314  ...     0.036    0.929     0.036\n",
              "...         ...          ...          ...  ...       ...      ...       ...\n",
              "3863 2020-06-24  1461.510010  1475.420044  ...     0.023    0.873     0.104\n",
              "3864 2020-06-25  1429.900024  1442.900024  ...     0.134    0.831     0.035\n",
              "3865 2020-06-26  1431.390015  1433.449951  ...     0.000    0.914     0.086\n",
              "3866 2020-06-29  1358.180054  1395.599976  ...     0.030    0.970     0.000\n",
              "3867 2020-06-30  1390.439941  1418.650024  ...     0.067    0.873     0.059\n",
              "\n",
              "[3868 rows x 13 columns]"
            ]
          },
          "metadata": {
            "tags": []
          },
          "execution_count": 28
        }
      ]
    },
    {
      "cell_type": "code",
      "metadata": {
        "colab": {
          "base_uri": "https://localhost:8080/"
        },
        "id": "WedMovy5N8vr",
        "outputId": "3c2391b7-cecf-4778-b3b4-d02613e62206"
      },
      "source": [
        "\r\n",
        "df.corr()['y']"
      ],
      "execution_count": null,
      "outputs": [
        {
          "output_type": "execute_result",
          "data": {
            "text/plain": [
              "Open          0.999735\n",
              "High          0.999858\n",
              "Low           0.999875\n",
              "y             1.000000\n",
              "Volume       -0.542834\n",
              "New_year      0.009412\n",
              "New_month    -0.003807\n",
              "Unnamed: 0    0.923185\n",
              "Positive      0.114166\n",
              "Neutral      -0.127199\n",
              "Neagtive      0.047738\n",
              "Name: y, dtype: float64"
            ]
          },
          "metadata": {
            "tags": []
          },
          "execution_count": 91
        }
      ]
    },
    {
      "cell_type": "code",
      "metadata": {
        "id": "EeqjBJUbK0KP"
      },
      "source": [
        "x_train=df.iloc[:3700]\r\n",
        "x_test=df.iloc[3700:3730]\r\n"
      ],
      "execution_count": null,
      "outputs": []
    },
    {
      "cell_type": "code",
      "metadata": {
        "id": "TjIjqbOnLe6b"
      },
      "source": [
        "X=x_train[['ds','y','New_year','New_month','Positive','Neutral','Neagtive']]\r\n",
        "X_test=x_test[['y']]"
      ],
      "execution_count": null,
      "outputs": []
    },
    {
      "cell_type": "code",
      "metadata": {
        "colab": {
          "base_uri": "https://localhost:8080/"
        },
        "id": "95EhiUpcMNSX",
        "outputId": "3d481b8d-3d32-4e43-a3ea-b89bfc02852f"
      },
      "source": [
        "m=Prophet(changepoint_prior_scale=3,holidays_prior_scale=0.001,changepoint_range=1,n_changepoints=100)\r\n",
        "m.add_country_holidays(country_name='IN')\r\n",
        "m.add_regressor('New_year')\r\n",
        "m.add_regressor('New_month')\r\n",
        "m.add_regressor('Positive')\r\n",
        "m.add_regressor('Neagtive')\r\n",
        "m.add_regressor('Neutral')"
      ],
      "execution_count": null,
      "outputs": [
        {
          "output_type": "execute_result",
          "data": {
            "text/plain": [
              "<fbprophet.forecaster.Prophet at 0x7f3adad475c0>"
            ]
          },
          "metadata": {
            "tags": []
          },
          "execution_count": 138
        }
      ]
    },
    {
      "cell_type": "code",
      "metadata": {
        "colab": {
          "base_uri": "https://localhost:8080/"
        },
        "id": "C3kJMPSTMZCg",
        "outputId": "cb1dce48-aff9-4894-ef9d-eba38508eaca"
      },
      "source": [
        "m.fit(X)"
      ],
      "execution_count": null,
      "outputs": [
        {
          "output_type": "stream",
          "text": [
            "INFO:fbprophet:Disabling daily seasonality. Run prophet with daily_seasonality=True to override this.\n",
            "/usr/local/lib/python3.6/dist-packages/fbprophet/hdays.py:259: Warning:\n",
            "\n",
            "We only support Diwali and Holi holidays from 2010 to 2030\n",
            "\n"
          ],
          "name": "stderr"
        },
        {
          "output_type": "execute_result",
          "data": {
            "text/plain": [
              "<fbprophet.forecaster.Prophet at 0x7f3adad475c0>"
            ]
          },
          "metadata": {
            "tags": []
          },
          "execution_count": 139
        }
      ]
    },
    {
      "cell_type": "code",
      "metadata": {
        "id": "8Zl_P_KJMbSg"
      },
      "source": [
        "future=m.make_future_dataframe(periods=30)\r\n",
        "data=pd.DataFrame({'ds':future['ds'],'New_year':df['New_year'].iloc[:3730],'New_month':df['New_month'].iloc[:3730],'Positive':df['Positive'].iloc[:3730],\r\n",
        "                   'Neagtive':df['Neagtive'].iloc[:3730],'Neutral':df['Neutral'].iloc[:3730]})"
      ],
      "execution_count": null,
      "outputs": []
    },
    {
      "cell_type": "code",
      "metadata": {
        "colab": {
          "base_uri": "https://localhost:8080/",
          "height": 999
        },
        "id": "2Ap504n9ND8c",
        "outputId": "d61010c4-00ec-4828-abf6-23228a68da92"
      },
      "source": [
        "forecast=m.predict(data)\r\n",
        "\r\n",
        "m.plot(forecast)"
      ],
      "execution_count": null,
      "outputs": [
        {
          "output_type": "stream",
          "text": [
            "/usr/local/lib/python3.6/dist-packages/fbprophet/hdays.py:259: Warning:\n",
            "\n",
            "We only support Diwali and Holi holidays from 2010 to 2030\n",
            "\n",
            "/usr/local/lib/python3.6/dist-packages/fbprophet/hdays.py:259: Warning:\n",
            "\n",
            "We only support Diwali and Holi holidays from 2010 to 2030\n",
            "\n"
          ],
          "name": "stderr"
        },
        {
          "output_type": "execute_result",
          "data": {
            "image/png": "[encoded data removed]",
            "text/plain": [
              "<Figure size 720x432 with 1 Axes>"
            ]
          },
          "metadata": {
            "tags": []
          },
          "execution_count": 141
        },
        {
          "output_type": "display_data",
          "data": {
            "image/png": "[encoded data removed]",
            "text/plain": [
              "<Figure size 720x432 with 1 Axes>"
            ]
          },
          "metadata": {
            "tags": []
          }
        }
      ]
    },
    {
      "cell_type": "code",
      "metadata": {
        "id": "tuiokBOoNF0Z"
      },
      "source": [
        "pred=pd.DataFrame({'Close':x_test['y'],'Predicted':forecast['yhat'].iloc[3700:3730]})"
      ],
      "execution_count": null,
      "outputs": []
    },
    {
      "cell_type": "code",
      "metadata": {
        "colab": {
          "base_uri": "https://localhost:8080/",
          "height": 935
        },
        "id": "nT38yIenNMu9",
        "outputId": "0b0eb27e-6128-4e90-9596-721e01113518"
      },
      "source": [
        "pred"
      ],
      "execution_count": null,
      "outputs": [
        {
          "output_type": "execute_result",
          "data": {
            "text/html": [
              "<div>\n",
              "<style scoped>\n",
              "    .dataframe tbody tr th:only-of-type {\n",
              "        vertical-align: middle;\n",
              "    }\n",
              "\n",
              "    .dataframe tbody tr th {\n",
              "        vertical-align: top;\n",
              "    }\n",
              "\n",
              "    .dataframe thead th {\n",
              "        text-align: right;\n",
              "    }\n",
              "</style>\n",
              "<table border=\"1\" class=\"dataframe\">\n",
              "  <thead>\n",
              "    <tr style=\"text-align: right;\">\n",
              "      <th></th>\n",
              "      <th>Close</th>\n",
              "      <th>Predicted</th>\n",
              "    </tr>\n",
              "  </thead>\n",
              "  <tbody>\n",
              "    <tr>\n",
              "      <th>3700</th>\n",
              "      <td>1261.290039</td>\n",
              "      <td>1276.264096</td>\n",
              "    </tr>\n",
              "    <tr>\n",
              "      <th>3701</th>\n",
              "      <td>1260.109985</td>\n",
              "      <td>1277.780909</td>\n",
              "    </tr>\n",
              "    <tr>\n",
              "      <th>3702</th>\n",
              "      <td>1273.739990</td>\n",
              "      <td>1278.564445</td>\n",
              "    </tr>\n",
              "    <tr>\n",
              "      <th>3703</th>\n",
              "      <td>1291.369995</td>\n",
              "      <td>1287.975305</td>\n",
              "    </tr>\n",
              "    <tr>\n",
              "      <th>3704</th>\n",
              "      <td>1292.030029</td>\n",
              "      <td>1289.876986</td>\n",
              "    </tr>\n",
              "    <tr>\n",
              "      <th>3705</th>\n",
              "      <td>1291.800049</td>\n",
              "      <td>1283.402807</td>\n",
              "    </tr>\n",
              "    <tr>\n",
              "      <th>3706</th>\n",
              "      <td>1308.859985</td>\n",
              "      <td>1284.674747</td>\n",
              "    </tr>\n",
              "    <tr>\n",
              "      <th>3707</th>\n",
              "      <td>1311.369995</td>\n",
              "      <td>1285.527753</td>\n",
              "    </tr>\n",
              "    <tr>\n",
              "      <th>3708</th>\n",
              "      <td>1299.189941</td>\n",
              "      <td>1285.454169</td>\n",
              "    </tr>\n",
              "    <tr>\n",
              "      <th>3709</th>\n",
              "      <td>1298.800049</td>\n",
              "      <td>1287.881183</td>\n",
              "    </tr>\n",
              "    <tr>\n",
              "      <th>3710</th>\n",
              "      <td>1298.000000</td>\n",
              "      <td>1296.984975</td>\n",
              "    </tr>\n",
              "    <tr>\n",
              "      <th>3711</th>\n",
              "      <td>1311.459961</td>\n",
              "      <td>1298.393146</td>\n",
              "    </tr>\n",
              "    <tr>\n",
              "      <th>3712</th>\n",
              "      <td>1334.869995</td>\n",
              "      <td>1288.150672</td>\n",
              "    </tr>\n",
              "    <tr>\n",
              "      <th>3713</th>\n",
              "      <td>1320.699951</td>\n",
              "      <td>1288.511511</td>\n",
              "    </tr>\n",
              "    <tr>\n",
              "      <th>3714</th>\n",
              "      <td>1315.459961</td>\n",
              "      <td>1291.359349</td>\n",
              "    </tr>\n",
              "    <tr>\n",
              "      <th>3715</th>\n",
              "      <td>1303.050049</td>\n",
              "      <td>1292.273667</td>\n",
              "    </tr>\n",
              "    <tr>\n",
              "      <th>3716</th>\n",
              "      <td>1301.349976</td>\n",
              "      <td>1292.851709</td>\n",
              "    </tr>\n",
              "    <tr>\n",
              "      <th>3717</th>\n",
              "      <td>1295.339966</td>\n",
              "      <td>1302.542931</td>\n",
              "    </tr>\n",
              "    <tr>\n",
              "      <th>3718</th>\n",
              "      <td>1306.689941</td>\n",
              "      <td>1304.231487</td>\n",
              "    </tr>\n",
              "    <tr>\n",
              "      <th>3719</th>\n",
              "      <td>1313.550049</td>\n",
              "      <td>1293.938261</td>\n",
              "    </tr>\n",
              "    <tr>\n",
              "      <th>3720</th>\n",
              "      <td>1312.989990</td>\n",
              "      <td>1295.642819</td>\n",
              "    </tr>\n",
              "    <tr>\n",
              "      <th>3721</th>\n",
              "      <td>1304.959961</td>\n",
              "      <td>1296.479857</td>\n",
              "    </tr>\n",
              "    <tr>\n",
              "      <th>3722</th>\n",
              "      <td>1289.920044</td>\n",
              "      <td>1298.035705</td>\n",
              "    </tr>\n",
              "    <tr>\n",
              "      <th>3723</th>\n",
              "      <td>1295.280029</td>\n",
              "      <td>1298.463876</td>\n",
              "    </tr>\n",
              "    <tr>\n",
              "      <th>3724</th>\n",
              "      <td>1320.540039</td>\n",
              "      <td>1309.974546</td>\n",
              "    </tr>\n",
              "    <tr>\n",
              "      <th>3725</th>\n",
              "      <td>1328.130005</td>\n",
              "      <td>1311.121485</td>\n",
              "    </tr>\n",
              "    <tr>\n",
              "      <th>3726</th>\n",
              "      <td>1340.619995</td>\n",
              "      <td>1303.445581</td>\n",
              "    </tr>\n",
              "    <tr>\n",
              "      <th>3727</th>\n",
              "      <td>1343.560059</td>\n",
              "      <td>1303.482172</td>\n",
              "    </tr>\n",
              "    <tr>\n",
              "      <th>3728</th>\n",
              "      <td>1344.660034</td>\n",
              "      <td>1306.825105</td>\n",
              "    </tr>\n",
              "    <tr>\n",
              "      <th>3729</th>\n",
              "      <td>1345.020020</td>\n",
              "      <td>1308.244324</td>\n",
              "    </tr>\n",
              "  </tbody>\n",
              "</table>\n",
              "</div>"
            ],
            "text/plain": [
              "            Close    Predicted\n",
              "3700  1261.290039  1276.264096\n",
              "3701  1260.109985  1277.780909\n",
              "3702  1273.739990  1278.564445\n",
              "3703  1291.369995  1287.975305\n",
              "3704  1292.030029  1289.876986\n",
              "3705  1291.800049  1283.402807\n",
              "3706  1308.859985  1284.674747\n",
              "3707  1311.369995  1285.527753\n",
              "3708  1299.189941  1285.454169\n",
              "3709  1298.800049  1287.881183\n",
              "3710  1298.000000  1296.984975\n",
              "3711  1311.459961  1298.393146\n",
              "3712  1334.869995  1288.150672\n",
              "3713  1320.699951  1288.511511\n",
              "3714  1315.459961  1291.359349\n",
              "3715  1303.050049  1292.273667\n",
              "3716  1301.349976  1292.851709\n",
              "3717  1295.339966  1302.542931\n",
              "3718  1306.689941  1304.231487\n",
              "3719  1313.550049  1293.938261\n",
              "3720  1312.989990  1295.642819\n",
              "3721  1304.959961  1296.479857\n",
              "3722  1289.920044  1298.035705\n",
              "3723  1295.280029  1298.463876\n",
              "3724  1320.540039  1309.974546\n",
              "3725  1328.130005  1311.121485\n",
              "3726  1340.619995  1303.445581\n",
              "3727  1343.560059  1303.482172\n",
              "3728  1344.660034  1306.825105\n",
              "3729  1345.020020  1308.244324"
            ]
          },
          "metadata": {
            "tags": []
          },
          "execution_count": 143
        }
      ]
    },
    {
      "cell_type": "code",
      "metadata": {
        "id": "aQiaHsmGNONY"
      },
      "source": [
        "error=[]\r\n",
        "for i,j in zip(pred['Close'],pred['Predicted']):\r\n",
        "  error.append(abs(i-j))"
      ],
      "execution_count": null,
      "outputs": []
    },
    {
      "cell_type": "code",
      "metadata": {
        "colab": {
          "base_uri": "https://localhost:8080/"
        },
        "id": "xTzugDEpNkmh",
        "outputId": "ab126766-712b-4f2c-ee96-cb6006fecfc5"
      },
      "source": [
        "max(error)"
      ],
      "execution_count": null,
      "outputs": [
        {
          "output_type": "execute_result",
          "data": {
            "text/plain": [
              "46.71932305899941"
            ]
          },
          "metadata": {
            "tags": []
          },
          "execution_count": 145
        }
      ]
    },
    {
      "cell_type": "code",
      "metadata": {
        "colab": {
          "base_uri": "https://localhost:8080/"
        },
        "id": "c2auZwKqNk3-",
        "outputId": "69f32ad2-3e38-4523-bc97-f6eb9d0936b3"
      },
      "source": [
        "import numpy as np\r\n",
        "\r\n",
        "(np.mean((error)))\r\n"
      ],
      "execution_count": null,
      "outputs": [
        {
          "output_type": "execute_result",
          "data": {
            "text/plain": [
              "16.943277393467223"
            ]
          },
          "metadata": {
            "tags": []
          },
          "execution_count": 146
        }
      ]
    },
    {
      "cell_type": "code",
      "metadata": {
        "colab": {
          "base_uri": "https://localhost:8080/"
        },
        "id": "4mDCBvZENrfS",
        "outputId": "713416b1-e1c3-484b-ae2d-e98ea0aeae6a"
      },
      "source": [
        "from sklearn.metrics import mean_squared_error\r\n",
        "import numpy as np\r\n",
        "error=np.sqrt(mean_squared_error(pred['Close'],pred['Predicted']))\r\n",
        "error"
      ],
      "execution_count": null,
      "outputs": [
        {
          "output_type": "execute_result",
          "data": {
            "text/plain": [
              "21.15911100166239"
            ]
          },
          "metadata": {
            "tags": []
          },
          "execution_count": 147
        }
      ]
    },
    {
      "cell_type": "code",
      "metadata": {
        "id": "c-xe0C6bUhdk"
      },
      "source": [
        ""
      ],
      "execution_count": null,
      "outputs": []
    }
  ]
}