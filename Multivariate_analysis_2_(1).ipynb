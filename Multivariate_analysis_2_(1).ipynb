{
  "nbformat": 4,
  "nbformat_minor": 0,
  "metadata": {
    "accelerator": "GPU",
    "colab": {
      "name": "Multivariate_analysis_2 (1).ipynb",
      "provenance": [],
      "collapsed_sections": [],
      "toc_visible": true,
      "include_colab_link": true
    },
    "kernelspec": {
      "display_name": "Python [default]",
      "language": "python",
      "name": "python3"
    },
    "language_info": {
      "codemirror_mode": {
        "name": "ipython",
        "version": 3
      },
      "file_extension": ".py",
      "mimetype": "text/x-python",
      "name": "python",
      "nbconvert_exporter": "python",
      "pygments_lexer": "ipython3",
      "version": "3.6.8"
    }
  },
  "cells": [
    {
      "cell_type": "markdown",
      "metadata": {
        "id": "view-in-github",
        "colab_type": "text"
      },
      "source": [
        "<a href=\"https://colab.research.google.com/github/jayshree346/stock_price_prediction/blob/main/Multivariate_analysis_2_(1).ipynb\" target=\"_parent\"><img src=\"https://colab.research.google.com/assets/colab-badge.svg\" alt=\"Open In Colab\"/></a>"
      ]
    },
    {
      "cell_type": "code",
      "metadata": {
        "colab": {
          "base_uri": "https://localhost:8080/"
        },
        "id": "S19jleua1_GE",
        "outputId": "05afc313-fca9-4557-a0fe-3efbe59f9246"
      },
      "source": [
        "import sys\n",
        "print(sys.version)"
      ],
      "execution_count": null,
      "outputs": [
        {
          "output_type": "stream",
          "text": [
            "3.6.9 (default, Oct  8 2020, 12:12:24) \n",
            "[GCC 8.4.0]\n"
          ],
          "name": "stdout"
        }
      ]
    },
    {
      "cell_type": "code",
      "metadata": {
        "id": "XGXh32Yl3E5s"
      },
      "source": [
        "# Importing dependencies\n",
        "\n",
        "import numpy as np\n",
        "np.random.seed(1)\n",
        "import tensorflow as tf\n",
        "tf.random.set_seed(2) \n",
        "import pandas as pd\n",
        "import matplotlib.pyplot as plt\n",
        "from keras.models import Sequential, load_model\n",
        "from keras.layers.core import Dense,Dropout\n",
        "from keras.layers.recurrent import LSTM,GRU\n",
        "from keras import optimizers\n",
        "from keras.callbacks import EarlyStopping\n",
        "from sklearn.preprocessing import MinMaxScaler\n",
        "from sklearn.metrics import mean_squared_error, r2_score\n",
        "from math import sqrt\n",
        "import datetime as dt\n",
        "import time\n",
        "plt.style.use('ggplot')"
      ],
      "execution_count": null,
      "outputs": []
    },
    {
      "cell_type": "code",
      "metadata": {
        "id": "uxlTL28r5Q61",
        "colab": {
          "base_uri": "https://localhost:8080/"
        },
        "outputId": "49a9dfa1-6bdb-4d02-e48a-fe8872bff6a9"
      },
      "source": [
        "from google.colab import drive\n",
        "drive.mount('/content/drive')"
      ],
      "execution_count": null,
      "outputs": [
        {
          "output_type": "stream",
          "text": [
            "Drive already mounted at /content/drive; to attempt to forcibly remount, call drive.mount(\"/content/drive\", force_remount=True).\n"
          ],
          "name": "stdout"
        }
      ]
    },
    {
      "cell_type": "markdown",
      "metadata": {
        "id": "VX29co2B3fnH"
      },
      "source": [
        "### Data Preprocessing"
      ]
    },
    {
      "cell_type": "code",
      "metadata": {
        "colab": {
          "base_uri": "https://localhost:8080/",
          "height": 204
        },
        "id": "r5O0a39R9Z_Z",
        "outputId": "1535c28f-e446-45c6-aa94-9dd47a2c014d"
      },
      "source": [
        "# Loading the dataset\n",
        "df = pd.read_csv('/content/drive/MyDrive/Colab Notebooks/data/GOOG (1).csv')\n",
        "df.head()"
      ],
      "execution_count": null,
      "outputs": [
        {
          "output_type": "execute_result",
          "data": {
            "text/html": [
              "<div>\n",
              "<style scoped>\n",
              "    .dataframe tbody tr th:only-of-type {\n",
              "        vertical-align: middle;\n",
              "    }\n",
              "\n",
              "    .dataframe tbody tr th {\n",
              "        vertical-align: top;\n",
              "    }\n",
              "\n",
              "    .dataframe thead th {\n",
              "        text-align: right;\n",
              "    }\n",
              "</style>\n",
              "<table border=\"1\" class=\"dataframe\">\n",
              "  <thead>\n",
              "    <tr style=\"text-align: right;\">\n",
              "      <th></th>\n",
              "      <th>Date</th>\n",
              "      <th>Open</th>\n",
              "      <th>High</th>\n",
              "      <th>Low</th>\n",
              "      <th>Close</th>\n",
              "      <th>Adj Close</th>\n",
              "      <th>Volume</th>\n",
              "    </tr>\n",
              "  </thead>\n",
              "  <tbody>\n",
              "    <tr>\n",
              "      <th>0</th>\n",
              "      <td>2004-08-19</td>\n",
              "      <td>49.813286</td>\n",
              "      <td>51.835709</td>\n",
              "      <td>47.800831</td>\n",
              "      <td>49.982655</td>\n",
              "      <td>49.982655</td>\n",
              "      <td>44871300</td>\n",
              "    </tr>\n",
              "    <tr>\n",
              "      <th>1</th>\n",
              "      <td>2004-08-20</td>\n",
              "      <td>50.316402</td>\n",
              "      <td>54.336334</td>\n",
              "      <td>50.062355</td>\n",
              "      <td>53.952770</td>\n",
              "      <td>53.952770</td>\n",
              "      <td>22942800</td>\n",
              "    </tr>\n",
              "    <tr>\n",
              "      <th>2</th>\n",
              "      <td>2004-08-23</td>\n",
              "      <td>55.168217</td>\n",
              "      <td>56.528118</td>\n",
              "      <td>54.321388</td>\n",
              "      <td>54.495735</td>\n",
              "      <td>54.495735</td>\n",
              "      <td>18342800</td>\n",
              "    </tr>\n",
              "    <tr>\n",
              "      <th>3</th>\n",
              "      <td>2004-08-24</td>\n",
              "      <td>55.412300</td>\n",
              "      <td>55.591629</td>\n",
              "      <td>51.591621</td>\n",
              "      <td>52.239193</td>\n",
              "      <td>52.239193</td>\n",
              "      <td>15319700</td>\n",
              "    </tr>\n",
              "    <tr>\n",
              "      <th>4</th>\n",
              "      <td>2004-08-25</td>\n",
              "      <td>52.284027</td>\n",
              "      <td>53.798351</td>\n",
              "      <td>51.746044</td>\n",
              "      <td>52.802086</td>\n",
              "      <td>52.802086</td>\n",
              "      <td>9232100</td>\n",
              "    </tr>\n",
              "  </tbody>\n",
              "</table>\n",
              "</div>"
            ],
            "text/plain": [
              "         Date       Open       High        Low      Close  Adj Close    Volume\n",
              "0  2004-08-19  49.813286  51.835709  47.800831  49.982655  49.982655  44871300\n",
              "1  2004-08-20  50.316402  54.336334  50.062355  53.952770  53.952770  22942800\n",
              "2  2004-08-23  55.168217  56.528118  54.321388  54.495735  54.495735  18342800\n",
              "3  2004-08-24  55.412300  55.591629  51.591621  52.239193  52.239193  15319700\n",
              "4  2004-08-25  52.284027  53.798351  51.746044  52.802086  52.802086   9232100"
            ]
          },
          "metadata": {
            "tags": []
          },
          "execution_count": 5
        }
      ]
    },
    {
      "cell_type": "code",
      "metadata": {
        "id": "W2iVD8l5EMCI"
      },
      "source": [
        "df['Date']= pd.to_datetime(df['Date'])"
      ],
      "execution_count": null,
      "outputs": []
    },
    {
      "cell_type": "code",
      "metadata": {
        "colab": {
          "base_uri": "https://localhost:8080/"
        },
        "id": "fNpb4ezrPHb9",
        "outputId": "414e538d-dfbe-43b3-d054-5960d6a738ff"
      },
      "source": [
        "df.shape"
      ],
      "execution_count": null,
      "outputs": [
        {
          "output_type": "execute_result",
          "data": {
            "text/plain": [
              "(4127, 7)"
            ]
          },
          "metadata": {
            "tags": []
          },
          "execution_count": 7
        }
      ]
    },
    {
      "cell_type": "code",
      "metadata": {
        "colab": {
          "base_uri": "https://localhost:8080/",
          "height": 204
        },
        "id": "yPM2a3gcHo3_",
        "outputId": "68d34305-e89b-415a-fa6d-ca08380af2c1"
      },
      "source": [
        "# df.set_index(\"Date\",inplace=True)\r\n",
        "df = df.iloc[:4122,:]\r\n",
        "df.tail()"
      ],
      "execution_count": null,
      "outputs": [
        {
          "output_type": "execute_result",
          "data": {
            "text/html": [
              "<div>\n",
              "<style scoped>\n",
              "    .dataframe tbody tr th:only-of-type {\n",
              "        vertical-align: middle;\n",
              "    }\n",
              "\n",
              "    .dataframe tbody tr th {\n",
              "        vertical-align: top;\n",
              "    }\n",
              "\n",
              "    .dataframe thead th {\n",
              "        text-align: right;\n",
              "    }\n",
              "</style>\n",
              "<table border=\"1\" class=\"dataframe\">\n",
              "  <thead>\n",
              "    <tr style=\"text-align: right;\">\n",
              "      <th></th>\n",
              "      <th>Date</th>\n",
              "      <th>Open</th>\n",
              "      <th>High</th>\n",
              "      <th>Low</th>\n",
              "      <th>Close</th>\n",
              "      <th>Adj Close</th>\n",
              "      <th>Volume</th>\n",
              "    </tr>\n",
              "  </thead>\n",
              "  <tbody>\n",
              "    <tr>\n",
              "      <th>4117</th>\n",
              "      <td>2020-12-24</td>\n",
              "      <td>1735.000000</td>\n",
              "      <td>1746.000000</td>\n",
              "      <td>1729.109985</td>\n",
              "      <td>1738.849976</td>\n",
              "      <td>1738.849976</td>\n",
              "      <td>346800</td>\n",
              "    </tr>\n",
              "    <tr>\n",
              "      <th>4118</th>\n",
              "      <td>2020-12-28</td>\n",
              "      <td>1751.635010</td>\n",
              "      <td>1790.728027</td>\n",
              "      <td>1746.334961</td>\n",
              "      <td>1776.089966</td>\n",
              "      <td>1776.089966</td>\n",
              "      <td>1393000</td>\n",
              "    </tr>\n",
              "    <tr>\n",
              "      <th>4119</th>\n",
              "      <td>2020-12-29</td>\n",
              "      <td>1787.790039</td>\n",
              "      <td>1792.439941</td>\n",
              "      <td>1756.089966</td>\n",
              "      <td>1758.719971</td>\n",
              "      <td>1758.719971</td>\n",
              "      <td>1299400</td>\n",
              "    </tr>\n",
              "    <tr>\n",
              "      <th>4120</th>\n",
              "      <td>2020-12-30</td>\n",
              "      <td>1762.010010</td>\n",
              "      <td>1765.094971</td>\n",
              "      <td>1725.599976</td>\n",
              "      <td>1739.520020</td>\n",
              "      <td>1739.520020</td>\n",
              "      <td>1306100</td>\n",
              "    </tr>\n",
              "    <tr>\n",
              "      <th>4121</th>\n",
              "      <td>2020-12-31</td>\n",
              "      <td>1735.420044</td>\n",
              "      <td>1758.930054</td>\n",
              "      <td>1735.420044</td>\n",
              "      <td>1751.880005</td>\n",
              "      <td>1751.880005</td>\n",
              "      <td>1011900</td>\n",
              "    </tr>\n",
              "  </tbody>\n",
              "</table>\n",
              "</div>"
            ],
            "text/plain": [
              "           Date         Open         High  ...        Close    Adj Close   Volume\n",
              "4117 2020-12-24  1735.000000  1746.000000  ...  1738.849976  1738.849976   346800\n",
              "4118 2020-12-28  1751.635010  1790.728027  ...  1776.089966  1776.089966  1393000\n",
              "4119 2020-12-29  1787.790039  1792.439941  ...  1758.719971  1758.719971  1299400\n",
              "4120 2020-12-30  1762.010010  1765.094971  ...  1739.520020  1739.520020  1306100\n",
              "4121 2020-12-31  1735.420044  1758.930054  ...  1751.880005  1751.880005  1011900\n",
              "\n",
              "[5 rows x 7 columns]"
            ]
          },
          "metadata": {
            "tags": []
          },
          "execution_count": 8
        }
      ]
    },
    {
      "cell_type": "code",
      "metadata": {
        "colab": {
          "base_uri": "https://localhost:8080/"
        },
        "id": "2H5Lkte_NgWT",
        "outputId": "7daf63da-eb1d-4ac5-e9d1-73c720d9f9ce"
      },
      "source": [
        "# Correlation matrix\n",
        "df.corr()['Adj Close']"
      ],
      "execution_count": null,
      "outputs": [
        {
          "output_type": "execute_result",
          "data": {
            "text/plain": [
              "Open         0.999752\n",
              "High         0.999868\n",
              "Low          0.999889\n",
              "Close        1.000000\n",
              "Adj Close    1.000000\n",
              "Volume      -0.531981\n",
              "Name: Adj Close, dtype: float64"
            ]
          },
          "metadata": {
            "tags": []
          },
          "execution_count": 9
        }
      ]
    },
    {
      "cell_type": "code",
      "metadata": {
        "colab": {
          "base_uri": "https://localhost:8080/"
        },
        "id": "1anbu_yx3bta",
        "outputId": "4d3f4cd5-bf12-475c-e184-95c0be5a7021"
      },
      "source": [
        "print(df.describe().Volume) \n",
        "df.drop(df[df['Volume']==0].index, inplace = True) #Dropping rows with volume value 0"
      ],
      "execution_count": null,
      "outputs": [
        {
          "output_type": "stream",
          "text": [
            "count    4.122000e+03\n",
            "mean     6.770436e+06\n",
            "std      7.928326e+06\n",
            "min      7.900000e+03\n",
            "25%      1.689025e+06\n",
            "50%      4.075300e+06\n",
            "75%      8.665350e+06\n",
            "max      8.254150e+07\n",
            "Name: Volume, dtype: float64\n"
          ],
          "name": "stdout"
        }
      ]
    },
    {
      "cell_type": "code",
      "metadata": {
        "id": "FNioyc6mZUAJ"
      },
      "source": [
        "# Setting up an early stop\n",
        "earlystop = EarlyStopping(monitor='val_loss', min_delta=0.0001, patience=80,  verbose=1, mode='min')\n",
        "callbacks_list = [earlystop]"
      ],
      "execution_count": null,
      "outputs": []
    },
    {
      "cell_type": "code",
      "metadata": {
        "id": "zRVEzZ1FXj_p"
      },
      "source": [
        "#Build and train the model\n",
        "def fit_model(train,val,timesteps,batch,epochs):\n",
        "    X_train = []\n",
        "    Y_train = []\n",
        "    X_val = []\n",
        "    Y_val = []\n",
        "  \n",
        "    # Loop for training data\n",
        "    for i in range(len(train)-timesteps-1):\n",
        "        X_train.append(train[i:i+timesteps,:])\n",
        "        Y_train.append(train[i+timesteps,:])\n",
        "    X_train,Y_train = np.array(X_train),np.array(Y_train)\n",
        "    X_train = X_train.reshape(X_train.shape[0],X_train.shape[1] , 3)\n",
        "    print('shape os X_train and Y_train', X_train.shape,Y_train.shape)\n",
        "  \n",
        "    # Loop for val data\n",
        "    for i in range(len(val)-timesteps-1):\n",
        "        X_val.append(val[i:i+timesteps,:])\n",
        "        Y_val.append(val[i+timesteps,:])\n",
        "    X_val,Y_val = np.array(X_val),np.array(Y_val)\n",
        "    X_val = X_val.reshape(X_val.shape[0],X_val.shape[1] , 3)\n",
        "    print('shape of validation set', X_val.shape,Y_val.shape)\n",
        "    \n",
        "    # Adding Layers to the model\n",
        "    model = Sequential()\n",
        "    model.add(GRU(units=50,input_shape = (X_train.shape[1],X_train.shape[2]),return_sequences = True,activation='relu'))\n",
        "    model.add(Dropout(0.2))\n",
        "    # model.add(GRU(units=50,return_sequences = True,activation='relu'))\n",
        "    # model.add(Dropout(0.2))        \n",
        "    # model.add(LSTM(units=50,activation='relu',return_sequences=True))\n",
        "    # model.add(Dropout(0.2))\n",
        "    # model.add(GRU(units=50,return_sequences = True,activation='relu'))\n",
        "    # model.add(Dropout(0.2))\n",
        "    # model.add(Dense(50, activation='relu'))\n",
        "    # model.add(Dropout(0.2))\n",
        "    model.add(LSTM(units=50,activation='relu'))\n",
        "    model.add(Dense(3))\n",
        "    model.compile(optimizer = 'adamax', loss = 'mean_squared_error')\n",
        "    #print(model.summary())\n",
        "  \n",
        "    # Training the data\n",
        "    history = model.fit(X_train,Y_train,epochs = epochs,batch_size = batch,validation_data = (X_val, Y_val),verbose = 1,\n",
        "                        shuffle = False, callbacks=callbacks_list)\n",
        "    model.reset_states()\n",
        "    return model, history.history['loss'], history.history['val_loss']\n"
      ],
      "execution_count": null,
      "outputs": []
    },
    {
      "cell_type": "code",
      "metadata": {
        "id": "Sxgf2O6xl-dg"
      },
      "source": [
        "#model.summary()"
      ],
      "execution_count": null,
      "outputs": []
    },
    {
      "cell_type": "code",
      "metadata": {
        "id": "LpwHmJeQJqyI"
      },
      "source": [
        "# Evaluating the model\n",
        "def evaluate_model(model,test,timesteps):\n",
        "    X_test = []\n",
        "    Y_test = []\n",
        "\n",
        "    # Loop for testing data\n",
        "    for i in range(len(test)-timesteps-1):\n",
        "        X_test.append(test[i:i+timesteps,:])\n",
        "        Y_test.append(test[i+timesteps,:])\n",
        "    X_test,Y_test = np.array(X_test),np.array(Y_test)\n",
        "    X_test =X_test.reshape(X_test.shape[0],X_test.shape[1] , 3)\n",
        "    #print(X_test.shape,Y_test.shape)\n",
        "  \n",
        "    # Prediction Time !!!!\n",
        "    Y_hat = model.predict(X_test)\n",
        "    Y_hat = sc.inverse_transform(Y_hat)\n",
        "    Y_test = sc.inverse_transform(Y_test)\n",
        "    mse = mean_squared_error(Y_test,Y_hat)\n",
        "    rmse = sqrt(mse)\n",
        "    r = r2_score(Y_test,Y_hat,multioutput='uniform_average')\n",
        "    return mse, rmse, r, Y_test, Y_hat"
      ],
      "execution_count": null,
      "outputs": []
    },
    {
      "cell_type": "code",
      "metadata": {
        "id": "pI0q18ajCLx6"
      },
      "source": [
        "# Plotting the predictions\n",
        "def plot_data(Y_test,Y_hat):\n",
        "    plt.plot(Y_test,c = 'y')\n",
        "    plt.plot(Y_hat,c = 'g')\n",
        "    plt.xlabel('Day')\n",
        "    plt.ylabel('Price')\n",
        "    plt.title('Stock Prediction Graph using Multivariate-LSTM model')\n",
        "    plt.legend(['Actual','Predicted'],loc = 'lower right')\n",
        "    plt.show()"
      ],
      "execution_count": null,
      "outputs": []
    },
    {
      "cell_type": "code",
      "metadata": {
        "id": "4NeqKRBZZr0Q"
      },
      "source": [
        "# Plotting the training errors\n",
        "def plot_error(train_loss,val_loss):\n",
        "    plt.plot(train_loss,c = 'r')\n",
        "    plt.plot(val_loss,c = 'b')\n",
        "    plt.ylabel('Loss')\n",
        "    plt.legend(['train','val'],loc = 'upper right')\n",
        "    plt.show()"
      ],
      "execution_count": null,
      "outputs": []
    },
    {
      "cell_type": "markdown",
      "metadata": {
        "id": "gflcHxE-3fnQ"
      },
      "source": [
        "### Model Building"
      ]
    },
    {
      "cell_type": "code",
      "metadata": {
        "colab": {
          "base_uri": "https://localhost:8080/"
        },
        "id": "gAvOMIyjIQO-",
        "outputId": "7dff3cbf-af47-4a06-8de2-f51a2cd11fc0"
      },
      "source": [
        "# Extracting the series\n",
        "series = df[['Date','Adj Close','High','Low']] # Picking the series with high correlation\n",
        "print(series.shape)\n",
        "print(series.tail())"
      ],
      "execution_count": null,
      "outputs": [
        {
          "output_type": "stream",
          "text": [
            "(4122, 4)\n",
            "           Date    Adj Close         High          Low\n",
            "4117 2020-12-24  1738.849976  1746.000000  1729.109985\n",
            "4118 2020-12-28  1776.089966  1790.728027  1746.334961\n",
            "4119 2020-12-29  1758.719971  1792.439941  1756.089966\n",
            "4120 2020-12-30  1739.520020  1765.094971  1725.599976\n",
            "4121 2020-12-31  1751.880005  1758.930054  1735.420044\n"
          ],
          "name": "stdout"
        }
      ]
    },
    {
      "cell_type": "code",
      "metadata": {
        "id": "wFjigzJBgSRU",
        "colab": {
          "base_uri": "https://localhost:8080/"
        },
        "outputId": "d7fd383f-8455-47ac-b118-d755f71abce0"
      },
      "source": [
        "# Train Val Test Split\r\n",
        "sert = series[series['Date'] <= '2019-12-31']\r\n",
        "serte = series[(series['Date'] > '2019-12-31')]\r\n",
        "sert.shape,serte.shape\r\n",
        "# val_data = series.loc[151:201]\r\n",
        "# test_data = series.loc[202:250]\r\n",
        "# print(train_data.shape,val_data.shape,test_data.shape)\r\n"
      ],
      "execution_count": null,
      "outputs": [
        {
          "output_type": "execute_result",
          "data": {
            "text/plain": [
              "((3869, 4), (253, 4))"
            ]
          },
          "metadata": {
            "tags": []
          },
          "execution_count": 18
        }
      ]
    },
    {
      "cell_type": "code",
      "metadata": {
        "colab": {
          "base_uri": "https://localhost:8080/"
        },
        "id": "oqTAIeGbErUh",
        "outputId": "64844a45-507f-4356-b961-243513c1a4d4"
      },
      "source": [
        "# Normalisation\r\n",
        "sc = MinMaxScaler()\r\n",
        "series_sc = sc.fit_transform(sert.drop(['Date'],axis=1))\r\n",
        "series_sc_te = sc.fit_transform(serte.drop(['Date'],axis=1))\r\n",
        "# series_sc = np.column_stack((series_sc,temp))\r\n",
        "print(series_sc.shape)\r\n",
        "print(series_sc_te.shape)"
      ],
      "execution_count": null,
      "outputs": [
        {
          "output_type": "stream",
          "text": [
            "(3869, 3)\n",
            "(253, 3)\n"
          ],
          "name": "stdout"
        }
      ]
    },
    {
      "cell_type": "code",
      "metadata": {
        "colab": {
          "base_uri": "https://localhost:8080/"
        },
        "id": "BYZboeukjfzh",
        "outputId": "1138fe0c-ca12-4a50-a1ea-4ee4ed3b5c18"
      },
      "source": [
        "train_size=int(len(sert)*0.8)\r\n",
        "train_data = series_sc[:train_size]\r\n",
        "\r\n",
        "val_size = int((len(sert)*0.2)+train_size)\r\n",
        "val_data = series_sc[train_size:val_size+1]\r\n",
        "\r\n",
        "test_data = series_sc_te[:]\r\n",
        "\r\n",
        "print(train_data.shape,val_data.shape,test_data.shape)\r\n"
      ],
      "execution_count": null,
      "outputs": [
        {
          "output_type": "stream",
          "text": [
            "(3095, 3) (774, 3) (253, 3)\n"
          ],
          "name": "stdout"
        }
      ]
    },
    {
      "cell_type": "code",
      "metadata": {
        "id": "jqRrcSyR3fnS"
      },
      "source": [
        "timesteps = 2\n",
        "batch_size = None\n",
        "num_epochs = 20"
      ],
      "execution_count": null,
      "outputs": []
    },
    {
      "cell_type": "code",
      "metadata": {
        "id": "SzL05YapcaJw"
      },
      "source": [
        ""
      ],
      "execution_count": null,
      "outputs": []
    },
    {
      "cell_type": "code",
      "metadata": {
        "colab": {
          "base_uri": "https://localhost:8080/",
          "height": 1000
        },
        "id": "I9G70ykj3fnT",
        "outputId": "cfeae02c-9878-44d5-a6a4-e662f82ccec8"
      },
      "source": [
        "model,train_error,val_error = fit_model(train_data,val_data,timesteps,batch_size,num_epochs)\n",
        "plot_error(train_error,val_error)"
      ],
      "execution_count": null,
      "outputs": [
        {
          "output_type": "stream",
          "text": [
            "shape os X_train and Y_train (3092, 2, 3) (3092, 3)\n",
            "shape of validation set (771, 2, 3) (771, 3)\n",
            "WARNING:tensorflow:Layer gru will not use cuDNN kernel since it doesn't meet the cuDNN kernel criteria. It will use generic GPU kernel as fallback when running on GPU\n",
            "WARNING:tensorflow:Layer lstm will not use cuDNN kernel since it doesn't meet the cuDNN kernel criteria. It will use generic GPU kernel as fallback when running on GPU\n",
            "Epoch 1/20\n",
            "97/97 [==============================] - 5s 18ms/step - loss: 0.0032 - val_loss: 0.0051\n",
            "Epoch 2/20\n",
            "97/97 [==============================] - 1s 13ms/step - loss: 0.0179 - val_loss: 0.0010\n",
            "Epoch 3/20\n",
            "97/97 [==============================] - 1s 12ms/step - loss: 0.0135 - val_loss: 3.0961e-04\n",
            "Epoch 4/20\n",
            "97/97 [==============================] - 1s 14ms/step - loss: 0.0068 - val_loss: 3.7990e-04\n",
            "Epoch 5/20\n",
            "97/97 [==============================] - 1s 14ms/step - loss: 0.0037 - val_loss: 5.4859e-04\n",
            "Epoch 6/20\n",
            "97/97 [==============================] - 1s 14ms/step - loss: 0.0024 - val_loss: 6.4873e-04\n",
            "Epoch 7/20\n",
            "97/97 [==============================] - 1s 13ms/step - loss: 0.0017 - val_loss: 8.9060e-04\n",
            "Epoch 8/20\n",
            "97/97 [==============================] - 1s 11ms/step - loss: 0.0011 - val_loss: 8.1642e-04\n",
            "Epoch 9/20\n",
            "97/97 [==============================] - 1s 12ms/step - loss: 7.9462e-04 - val_loss: 6.6237e-04\n",
            "Epoch 10/20\n",
            "97/97 [==============================] - 1s 12ms/step - loss: 6.3454e-04 - val_loss: 4.9552e-04\n",
            "Epoch 11/20\n",
            "97/97 [==============================] - 1s 11ms/step - loss: 4.9290e-04 - val_loss: 0.0012\n",
            "Epoch 12/20\n",
            "97/97 [==============================] - 1s 13ms/step - loss: 4.4792e-04 - val_loss: 6.7958e-04\n",
            "Epoch 13/20\n",
            "97/97 [==============================] - 1s 14ms/step - loss: 2.9215e-04 - val_loss: 4.3256e-04\n",
            "Epoch 14/20\n",
            "97/97 [==============================] - 1s 11ms/step - loss: 2.2073e-04 - val_loss: 5.4809e-04\n",
            "Epoch 15/20\n",
            "97/97 [==============================] - 1s 12ms/step - loss: 2.3689e-04 - val_loss: 6.7783e-04\n",
            "Epoch 16/20\n",
            "97/97 [==============================] - 1s 14ms/step - loss: 2.2082e-04 - val_loss: 7.8138e-04\n",
            "Epoch 17/20\n",
            "97/97 [==============================] - 1s 14ms/step - loss: 1.7701e-04 - val_loss: 3.0649e-04\n",
            "Epoch 18/20\n",
            "97/97 [==============================] - 1s 12ms/step - loss: 1.7331e-04 - val_loss: 2.9549e-04\n",
            "Epoch 19/20\n",
            "97/97 [==============================] - 1s 11ms/step - loss: 1.7472e-04 - val_loss: 3.1189e-04\n",
            "Epoch 20/20\n",
            "97/97 [==============================] - 1s 12ms/step - loss: 1.9922e-04 - val_loss: 2.5173e-04\n"
          ],
          "name": "stdout"
        },
        {
          "output_type": "display_data",
          "data": {
            "image/png": "[encoded data removed]",
            "text/plain": [
              "<Figure size 432x288 with 1 Axes>"
            ]
          },
          "metadata": {
            "tags": []
          }
        }
      ]
    },
    {
      "cell_type": "code",
      "metadata": {
        "colab": {
          "base_uri": "https://localhost:8080/"
        },
        "id": "bm_C_0vhMT3-",
        "outputId": "02b701e8-a889-4c2e-dea4-b8dfbdc00c84"
      },
      "source": [
        "mse, rmse, r2_value,true_train,train_predict = evaluate_model(model,train_data,timesteps)\r\n",
        "print('MSE = {}'.format(mse))\r\n",
        "print('RMSE = {}'.format(rmse))\r\n",
        "print('R-Squared Score = {}'.format(r2_value))"
      ],
      "execution_count": null,
      "outputs": [
        {
          "output_type": "stream",
          "text": [
            "MSE = 37.95662414805124\n",
            "RMSE = 6.160894752229683\n",
            "R-Squared Score = 0.9968918648902448\n"
          ],
          "name": "stdout"
        }
      ]
    },
    {
      "cell_type": "code",
      "metadata": {
        "colab": {
          "base_uri": "https://localhost:8080/"
        },
        "id": "ylHNhQB5hDKl",
        "outputId": "76196edb-4aff-4c91-8cb0-38166e7acb8c"
      },
      "source": [
        "true_train"
      ],
      "execution_count": null,
      "outputs": [
        {
          "output_type": "execute_result",
          "data": {
            "text/plain": [
              "array([[1059.37139837, 1074.77223195, 1017.57923157],\n",
              "       [1058.04404379, 1074.21939618, 1015.88657708],\n",
              "       [1058.37515156, 1073.16077379, 1015.98233059],\n",
              "       ...,\n",
              "       [1479.21366532, 1501.58057584, 1455.02737997],\n",
              "       [1480.74307228, 1500.97252078, 1460.26079633],\n",
              "       [1473.21376252, 1497.71980705, 1451.94563573]])"
            ]
          },
          "metadata": {
            "tags": []
          },
          "execution_count": 23
        }
      ]
    },
    {
      "cell_type": "code",
      "metadata": {
        "colab": {
          "base_uri": "https://localhost:8080/"
        },
        "id": "9Xp4GBzJ3fnT",
        "outputId": "2fe4c9d9-0d9a-4bf8-d559-c44e29238716"
      },
      "source": [
        "mse, rmse, r2_value,true_test,test_predict = evaluate_model(model,test_data,timesteps)\n",
        "print('MSE = {}'.format(mse))\n",
        "print('RMSE = {}'.format(rmse))\n",
        "print('R-Squared Score = {}'.format(r2_value))"
      ],
      "execution_count": null,
      "outputs": [
        {
          "output_type": "stream",
          "text": [
            "MSE = 1148.2723469975542\n",
            "RMSE = 33.88616748759816\n",
            "R-Squared Score = 0.9630521288735525\n"
          ],
          "name": "stdout"
        }
      ]
    },
    {
      "cell_type": "code",
      "metadata": {
        "id": "3Jgh353feBGl"
      },
      "source": [
        "model.save('Stock_Pred.h5')"
      ],
      "execution_count": null,
      "outputs": []
    },
    {
      "cell_type": "code",
      "metadata": {
        "id": "A4-QkdPiH8G7"
      },
      "source": [
        "temp = pd.DataFrame(true_test,columns=['Adj Close','High','Low'])\r\n",
        "temp2 = pd.DataFrame(test_predict,columns=['Adj Close','High','Low'])"
      ],
      "execution_count": null,
      "outputs": []
    },
    {
      "cell_type": "code",
      "metadata": {
        "colab": {
          "base_uri": "https://localhost:8080/",
          "height": 419
        },
        "id": "3Z8IJLdGdAre",
        "outputId": "2409d1d2-a6bf-43c0-f906-9edc7827a71a"
      },
      "source": [
        "visualize = pd.concat([temp,temp2],axis=1)\r\n",
        "visualize"
      ],
      "execution_count": null,
      "outputs": [
        {
          "output_type": "execute_result",
          "data": {
            "text/html": [
              "<div>\n",
              "<style scoped>\n",
              "    .dataframe tbody tr th:only-of-type {\n",
              "        vertical-align: middle;\n",
              "    }\n",
              "\n",
              "    .dataframe tbody tr th {\n",
              "        vertical-align: top;\n",
              "    }\n",
              "\n",
              "    .dataframe thead th {\n",
              "        text-align: right;\n",
              "    }\n",
              "</style>\n",
              "<table border=\"1\" class=\"dataframe\">\n",
              "  <thead>\n",
              "    <tr style=\"text-align: right;\">\n",
              "      <th></th>\n",
              "      <th>Adj Close</th>\n",
              "      <th>High</th>\n",
              "      <th>Low</th>\n",
              "      <th>Adj Close</th>\n",
              "      <th>High</th>\n",
              "      <th>Low</th>\n",
              "    </tr>\n",
              "  </thead>\n",
              "  <tbody>\n",
              "    <tr>\n",
              "      <th>0</th>\n",
              "      <td>1394.209961</td>\n",
              "      <td>1396.500000</td>\n",
              "      <td>1350.000000</td>\n",
              "      <td>1361.458374</td>\n",
              "      <td>1379.434204</td>\n",
              "      <td>1330.884766</td>\n",
              "    </tr>\n",
              "    <tr>\n",
              "      <th>1</th>\n",
              "      <td>1393.339966</td>\n",
              "      <td>1402.989990</td>\n",
              "      <td>1390.380005</td>\n",
              "      <td>1369.374512</td>\n",
              "      <td>1387.335449</td>\n",
              "      <td>1338.996948</td>\n",
              "    </tr>\n",
              "    <tr>\n",
              "      <th>2</th>\n",
              "      <td>1404.319946</td>\n",
              "      <td>1411.579956</td>\n",
              "      <td>1390.839966</td>\n",
              "      <td>1387.087891</td>\n",
              "      <td>1405.288452</td>\n",
              "      <td>1357.367676</td>\n",
              "    </tr>\n",
              "    <tr>\n",
              "      <th>3</th>\n",
              "      <td>1419.829956</td>\n",
              "      <td>1427.329956</td>\n",
              "      <td>1410.270020</td>\n",
              "      <td>1397.579346</td>\n",
              "      <td>1415.992554</td>\n",
              "      <td>1368.350830</td>\n",
              "    </tr>\n",
              "    <tr>\n",
              "      <th>4</th>\n",
              "      <td>1429.729980</td>\n",
              "      <td>1434.928955</td>\n",
              "      <td>1418.349976</td>\n",
              "      <td>1407.773560</td>\n",
              "      <td>1426.213135</td>\n",
              "      <td>1378.809326</td>\n",
              "    </tr>\n",
              "    <tr>\n",
              "      <th>...</th>\n",
              "      <td>...</td>\n",
              "      <td>...</td>\n",
              "      <td>...</td>\n",
              "      <td>...</td>\n",
              "      <td>...</td>\n",
              "      <td>...</td>\n",
              "    </tr>\n",
              "    <tr>\n",
              "      <th>245</th>\n",
              "      <td>1732.380005</td>\n",
              "      <td>1747.989990</td>\n",
              "      <td>1725.040039</td>\n",
              "      <td>1731.579468</td>\n",
              "      <td>1741.916016</td>\n",
              "      <td>1706.211304</td>\n",
              "    </tr>\n",
              "    <tr>\n",
              "      <th>246</th>\n",
              "      <td>1738.849976</td>\n",
              "      <td>1746.000000</td>\n",
              "      <td>1729.109985</td>\n",
              "      <td>1734.009277</td>\n",
              "      <td>1744.142090</td>\n",
              "      <td>1708.461426</td>\n",
              "    </tr>\n",
              "    <tr>\n",
              "      <th>247</th>\n",
              "      <td>1776.089966</td>\n",
              "      <td>1790.728027</td>\n",
              "      <td>1746.334961</td>\n",
              "      <td>1742.092896</td>\n",
              "      <td>1751.871338</td>\n",
              "      <td>1716.600830</td>\n",
              "    </tr>\n",
              "    <tr>\n",
              "      <th>248</th>\n",
              "      <td>1758.719971</td>\n",
              "      <td>1792.439941</td>\n",
              "      <td>1756.089966</td>\n",
              "      <td>1757.889893</td>\n",
              "      <td>1766.668579</td>\n",
              "      <td>1731.811035</td>\n",
              "    </tr>\n",
              "    <tr>\n",
              "      <th>249</th>\n",
              "      <td>1739.520020</td>\n",
              "      <td>1765.094971</td>\n",
              "      <td>1725.599976</td>\n",
              "      <td>1780.837280</td>\n",
              "      <td>1788.219604</td>\n",
              "      <td>1754.670044</td>\n",
              "    </tr>\n",
              "  </tbody>\n",
              "</table>\n",
              "<p>250 rows × 6 columns</p>\n",
              "</div>"
            ],
            "text/plain": [
              "       Adj Close         High  ...         High          Low\n",
              "0    1394.209961  1396.500000  ...  1379.434204  1330.884766\n",
              "1    1393.339966  1402.989990  ...  1387.335449  1338.996948\n",
              "2    1404.319946  1411.579956  ...  1405.288452  1357.367676\n",
              "3    1419.829956  1427.329956  ...  1415.992554  1368.350830\n",
              "4    1429.729980  1434.928955  ...  1426.213135  1378.809326\n",
              "..           ...          ...  ...          ...          ...\n",
              "245  1732.380005  1747.989990  ...  1741.916016  1706.211304\n",
              "246  1738.849976  1746.000000  ...  1744.142090  1708.461426\n",
              "247  1776.089966  1790.728027  ...  1751.871338  1716.600830\n",
              "248  1758.719971  1792.439941  ...  1766.668579  1731.811035\n",
              "249  1739.520020  1765.094971  ...  1788.219604  1754.670044\n",
              "\n",
              "[250 rows x 6 columns]"
            ]
          },
          "metadata": {
            "tags": []
          },
          "execution_count": 26
        }
      ]
    },
    {
      "cell_type": "code",
      "metadata": {
        "id": "Y97vdh8YHGwE",
        "colab": {
          "base_uri": "https://localhost:8080/",
          "height": 337
        },
        "outputId": "76769055-d5dc-4288-da6b-1592a1eefb08"
      },
      "source": [
        "plt.figure(figsize=(8,5))\r\n",
        "plt.title(\"Stock prediction\")\r\n",
        "plt.subplot(3,1,1)\r\n",
        "plt.plot(temp['Adj Close'],label='Actual Close')\r\n",
        "plt.plot(temp2['Adj Close'],label='Predicted Close')\r\n",
        "plt.legend()\r\n",
        "plt.subplot(3,1,2)\r\n",
        "plt.plot(temp['High'],label='Actual High')\r\n",
        "plt.plot(temp2['High'],label='Predicted High')\r\n",
        "plt.legend()\r\n",
        "plt.subplot(3,1,3)\r\n",
        "plt.plot(temp['Low'],label='Actual Low')\r\n",
        "plt.plot(temp2['Low'],label='Predicted Low')\r\n",
        "plt.legend()"
      ],
      "execution_count": null,
      "outputs": [
        {
          "output_type": "execute_result",
          "data": {
            "text/plain": [
              "<matplotlib.legend.Legend at 0x7f30a11db780>"
            ]
          },
          "metadata": {
            "tags": []
          },
          "execution_count": 27
        },
        {
          "output_type": "display_data",
          "data": {
            "image/png": "[encoded data removed]",
            "text/plain": [
              "<Figure size 576x360 with 3 Axes>"
            ]
          },
          "metadata": {
            "tags": []
          }
        }
      ]
    },
    {
      "cell_type": "code",
      "metadata": {
        "id": "P-EUuA7gdVWk"
      },
      "source": [
        "# train_predict=sc.inverse_transform(train_predicted)\r\n",
        "# test_predict=sc.inverse_transform(test_predicted)"
      ],
      "execution_count": null,
      "outputs": []
    },
    {
      "cell_type": "code",
      "metadata": {
        "colab": {
          "base_uri": "https://localhost:8080/"
        },
        "id": "8KRPaQNvPKDt",
        "outputId": "364015d5-d863-4b34-c06a-9174fc14748c"
      },
      "source": [
        "test_data = test_data[:,np.newaxis]\r\n",
        "test_data.shape"
      ],
      "execution_count": null,
      "outputs": [
        {
          "output_type": "execute_result",
          "data": {
            "text/plain": [
              "(1, 1, 253, 1, 1, 3)"
            ]
          },
          "metadata": {
            "tags": []
          },
          "execution_count": 34
        }
      ]
    },
    {
      "cell_type": "code",
      "metadata": {
        "id": "TJPbddwpd55-"
      },
      "source": [
        "day_ahead = 30\r\n",
        "for step_ahead in the range(day_ahead):\r\n",
        "  y_pred_one = model.predict(test_data[:,steap_ahead:])"
      ],
      "execution_count": null,
      "outputs": []
    }
  ]
}